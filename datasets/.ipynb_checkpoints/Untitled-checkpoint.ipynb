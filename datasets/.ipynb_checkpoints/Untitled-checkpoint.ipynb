{
 "cells": [
  {
   "cell_type": "code",
   "execution_count": 1,
   "id": "1b32eb00-0523-49f8-88ef-17a1e45aca7c",
   "metadata": {},
   "outputs": [],
   "source": [
    "import pandas as pd\n",
    "import numpy as np"
   ]
  },
  {
   "cell_type": "code",
   "execution_count": 2,
   "id": "58ab0b3f-c4f9-4533-84ad-0f8567735839",
   "metadata": {},
   "outputs": [],
   "source": [
    "df1 = pd.read_csv('https://docs.google.com/spreadsheets/d/e/2PACX-1vS7-ExDX7zYC5CxfFplHAwTSQUdGCgAfFDhLyBuz3OPxGacrdzhgfhOKPbLb2WwIf-YV8xUP66EB03B/pub?gid=1991064989&single=true&output=csv')"
   ]
  },
  {
   "cell_type": "code",
   "execution_count": 3,
   "id": "7ad3c51c-81ef-48aa-b236-e7ab49b04b14",
   "metadata": {},
   "outputs": [
    {
     "data": {
      "text/html": [
       "<div>\n",
       "<style scoped>\n",
       "    .dataframe tbody tr th:only-of-type {\n",
       "        vertical-align: middle;\n",
       "    }\n",
       "\n",
       "    .dataframe tbody tr th {\n",
       "        vertical-align: top;\n",
       "    }\n",
       "\n",
       "    .dataframe thead th {\n",
       "        text-align: right;\n",
       "    }\n",
       "</style>\n",
       "<table border=\"1\" class=\"dataframe\">\n",
       "  <thead>\n",
       "    <tr style=\"text-align: right;\">\n",
       "      <th></th>\n",
       "      <th>ID</th>\n",
       "      <th>innings</th>\n",
       "      <th>overs</th>\n",
       "      <th>ballnumber</th>\n",
       "      <th>batter</th>\n",
       "      <th>bowler</th>\n",
       "      <th>non-striker</th>\n",
       "      <th>extra_type</th>\n",
       "      <th>batsman_run</th>\n",
       "      <th>extras_run</th>\n",
       "      <th>total_run</th>\n",
       "      <th>non_boundary</th>\n",
       "      <th>isWicketDelivery</th>\n",
       "      <th>player_out</th>\n",
       "      <th>kind</th>\n",
       "      <th>fielders_involved</th>\n",
       "      <th>BattingTeam</th>\n",
       "    </tr>\n",
       "  </thead>\n",
       "  <tbody>\n",
       "    <tr>\n",
       "      <th>0</th>\n",
       "      <td>1312200</td>\n",
       "      <td>1</td>\n",
       "      <td>0</td>\n",
       "      <td>1</td>\n",
       "      <td>YBK Jaiswal</td>\n",
       "      <td>Mohammed Shami</td>\n",
       "      <td>JC Buttler</td>\n",
       "      <td>NaN</td>\n",
       "      <td>0</td>\n",
       "      <td>0</td>\n",
       "      <td>0</td>\n",
       "      <td>0</td>\n",
       "      <td>0</td>\n",
       "      <td>NaN</td>\n",
       "      <td>NaN</td>\n",
       "      <td>NaN</td>\n",
       "      <td>Rajasthan Royals</td>\n",
       "    </tr>\n",
       "    <tr>\n",
       "      <th>1</th>\n",
       "      <td>1312200</td>\n",
       "      <td>1</td>\n",
       "      <td>0</td>\n",
       "      <td>2</td>\n",
       "      <td>YBK Jaiswal</td>\n",
       "      <td>Mohammed Shami</td>\n",
       "      <td>JC Buttler</td>\n",
       "      <td>legbyes</td>\n",
       "      <td>0</td>\n",
       "      <td>1</td>\n",
       "      <td>1</td>\n",
       "      <td>0</td>\n",
       "      <td>0</td>\n",
       "      <td>NaN</td>\n",
       "      <td>NaN</td>\n",
       "      <td>NaN</td>\n",
       "      <td>Rajasthan Royals</td>\n",
       "    </tr>\n",
       "    <tr>\n",
       "      <th>2</th>\n",
       "      <td>1312200</td>\n",
       "      <td>1</td>\n",
       "      <td>0</td>\n",
       "      <td>3</td>\n",
       "      <td>JC Buttler</td>\n",
       "      <td>Mohammed Shami</td>\n",
       "      <td>YBK Jaiswal</td>\n",
       "      <td>NaN</td>\n",
       "      <td>1</td>\n",
       "      <td>0</td>\n",
       "      <td>1</td>\n",
       "      <td>0</td>\n",
       "      <td>0</td>\n",
       "      <td>NaN</td>\n",
       "      <td>NaN</td>\n",
       "      <td>NaN</td>\n",
       "      <td>Rajasthan Royals</td>\n",
       "    </tr>\n",
       "    <tr>\n",
       "      <th>3</th>\n",
       "      <td>1312200</td>\n",
       "      <td>1</td>\n",
       "      <td>0</td>\n",
       "      <td>4</td>\n",
       "      <td>YBK Jaiswal</td>\n",
       "      <td>Mohammed Shami</td>\n",
       "      <td>JC Buttler</td>\n",
       "      <td>NaN</td>\n",
       "      <td>0</td>\n",
       "      <td>0</td>\n",
       "      <td>0</td>\n",
       "      <td>0</td>\n",
       "      <td>0</td>\n",
       "      <td>NaN</td>\n",
       "      <td>NaN</td>\n",
       "      <td>NaN</td>\n",
       "      <td>Rajasthan Royals</td>\n",
       "    </tr>\n",
       "    <tr>\n",
       "      <th>4</th>\n",
       "      <td>1312200</td>\n",
       "      <td>1</td>\n",
       "      <td>0</td>\n",
       "      <td>5</td>\n",
       "      <td>YBK Jaiswal</td>\n",
       "      <td>Mohammed Shami</td>\n",
       "      <td>JC Buttler</td>\n",
       "      <td>NaN</td>\n",
       "      <td>0</td>\n",
       "      <td>0</td>\n",
       "      <td>0</td>\n",
       "      <td>0</td>\n",
       "      <td>0</td>\n",
       "      <td>NaN</td>\n",
       "      <td>NaN</td>\n",
       "      <td>NaN</td>\n",
       "      <td>Rajasthan Royals</td>\n",
       "    </tr>\n",
       "  </tbody>\n",
       "</table>\n",
       "</div>"
      ],
      "text/plain": [
       "        ID  innings  overs  ballnumber       batter          bowler  \\\n",
       "0  1312200        1      0           1  YBK Jaiswal  Mohammed Shami   \n",
       "1  1312200        1      0           2  YBK Jaiswal  Mohammed Shami   \n",
       "2  1312200        1      0           3   JC Buttler  Mohammed Shami   \n",
       "3  1312200        1      0           4  YBK Jaiswal  Mohammed Shami   \n",
       "4  1312200        1      0           5  YBK Jaiswal  Mohammed Shami   \n",
       "\n",
       "   non-striker extra_type  batsman_run  extras_run  total_run  non_boundary  \\\n",
       "0   JC Buttler        NaN            0           0          0             0   \n",
       "1   JC Buttler    legbyes            0           1          1             0   \n",
       "2  YBK Jaiswal        NaN            1           0          1             0   \n",
       "3   JC Buttler        NaN            0           0          0             0   \n",
       "4   JC Buttler        NaN            0           0          0             0   \n",
       "\n",
       "   isWicketDelivery player_out kind fielders_involved       BattingTeam  \n",
       "0                 0        NaN  NaN               NaN  Rajasthan Royals  \n",
       "1                 0        NaN  NaN               NaN  Rajasthan Royals  \n",
       "2                 0        NaN  NaN               NaN  Rajasthan Royals  \n",
       "3                 0        NaN  NaN               NaN  Rajasthan Royals  \n",
       "4                 0        NaN  NaN               NaN  Rajasthan Royals  "
      ]
     },
     "execution_count": 3,
     "metadata": {},
     "output_type": "execute_result"
    }
   ],
   "source": [
    "df1.head()"
   ]
  },
  {
   "cell_type": "code",
   "execution_count": 156,
   "id": "20061c04-533c-4a0a-8357-bd950ca75aa7",
   "metadata": {},
   "outputs": [],
   "source": [
    "df = pd.read_csv('https://docs.google.com/spreadsheets/d/e/2PACX-1vQNMuywEZLrkFw8wmNL38_hRdsMbsFF83A_w_kXwOvrDoNJ-S2ATdPld8tg41F4vSZs4I7dv3YUZNW8/pub?gid=986987377&single=true&output=csv')"
   ]
  },
  {
   "cell_type": "code",
   "execution_count": 157,
   "id": "1973e06b-5752-4d60-b4d2-15776c8fd9e4",
   "metadata": {},
   "outputs": [
    {
     "data": {
      "text/html": [
       "<div>\n",
       "<style scoped>\n",
       "    .dataframe tbody tr th:only-of-type {\n",
       "        vertical-align: middle;\n",
       "    }\n",
       "\n",
       "    .dataframe tbody tr th {\n",
       "        vertical-align: top;\n",
       "    }\n",
       "\n",
       "    .dataframe thead th {\n",
       "        text-align: right;\n",
       "    }\n",
       "</style>\n",
       "<table border=\"1\" class=\"dataframe\">\n",
       "  <thead>\n",
       "    <tr style=\"text-align: right;\">\n",
       "      <th></th>\n",
       "      <th>ID</th>\n",
       "      <th>City</th>\n",
       "      <th>Date</th>\n",
       "      <th>Season</th>\n",
       "      <th>MatchNumber</th>\n",
       "      <th>Team1</th>\n",
       "      <th>Team2</th>\n",
       "      <th>Venue</th>\n",
       "      <th>TossWinner</th>\n",
       "      <th>TossDecision</th>\n",
       "      <th>SuperOver</th>\n",
       "      <th>WinningTeam</th>\n",
       "      <th>WonBy</th>\n",
       "      <th>Margin</th>\n",
       "      <th>method</th>\n",
       "      <th>Player_of_Match</th>\n",
       "      <th>Team1Players</th>\n",
       "      <th>Team2Players</th>\n",
       "      <th>Umpire1</th>\n",
       "      <th>Umpire2</th>\n",
       "    </tr>\n",
       "  </thead>\n",
       "  <tbody>\n",
       "    <tr>\n",
       "      <th>0</th>\n",
       "      <td>1312200</td>\n",
       "      <td>Ahmedabad</td>\n",
       "      <td>2022-05-29</td>\n",
       "      <td>2022</td>\n",
       "      <td>Final</td>\n",
       "      <td>Rajasthan Royals</td>\n",
       "      <td>Gujarat Titans</td>\n",
       "      <td>Narendra Modi Stadium, Ahmedabad</td>\n",
       "      <td>Rajasthan Royals</td>\n",
       "      <td>bat</td>\n",
       "      <td>N</td>\n",
       "      <td>Gujarat Titans</td>\n",
       "      <td>Wickets</td>\n",
       "      <td>7.0</td>\n",
       "      <td>NaN</td>\n",
       "      <td>HH Pandya</td>\n",
       "      <td>['YBK Jaiswal', 'JC Buttler', 'SV Samson', 'D ...</td>\n",
       "      <td>['WP Saha', 'Shubman Gill', 'MS Wade', 'HH Pan...</td>\n",
       "      <td>CB Gaffaney</td>\n",
       "      <td>Nitin Menon</td>\n",
       "    </tr>\n",
       "    <tr>\n",
       "      <th>1</th>\n",
       "      <td>1312199</td>\n",
       "      <td>Ahmedabad</td>\n",
       "      <td>2022-05-27</td>\n",
       "      <td>2022</td>\n",
       "      <td>Qualifier 2</td>\n",
       "      <td>Royal Challengers Bangalore</td>\n",
       "      <td>Rajasthan Royals</td>\n",
       "      <td>Narendra Modi Stadium, Ahmedabad</td>\n",
       "      <td>Rajasthan Royals</td>\n",
       "      <td>field</td>\n",
       "      <td>N</td>\n",
       "      <td>Rajasthan Royals</td>\n",
       "      <td>Wickets</td>\n",
       "      <td>7.0</td>\n",
       "      <td>NaN</td>\n",
       "      <td>JC Buttler</td>\n",
       "      <td>['V Kohli', 'F du Plessis', 'RM Patidar', 'GJ ...</td>\n",
       "      <td>['YBK Jaiswal', 'JC Buttler', 'SV Samson', 'D ...</td>\n",
       "      <td>CB Gaffaney</td>\n",
       "      <td>Nitin Menon</td>\n",
       "    </tr>\n",
       "  </tbody>\n",
       "</table>\n",
       "</div>"
      ],
      "text/plain": [
       "        ID       City        Date Season  MatchNumber  \\\n",
       "0  1312200  Ahmedabad  2022-05-29   2022        Final   \n",
       "1  1312199  Ahmedabad  2022-05-27   2022  Qualifier 2   \n",
       "\n",
       "                         Team1             Team2  \\\n",
       "0             Rajasthan Royals    Gujarat Titans   \n",
       "1  Royal Challengers Bangalore  Rajasthan Royals   \n",
       "\n",
       "                              Venue        TossWinner TossDecision SuperOver  \\\n",
       "0  Narendra Modi Stadium, Ahmedabad  Rajasthan Royals          bat         N   \n",
       "1  Narendra Modi Stadium, Ahmedabad  Rajasthan Royals        field         N   \n",
       "\n",
       "        WinningTeam    WonBy  Margin method Player_of_Match  \\\n",
       "0    Gujarat Titans  Wickets     7.0    NaN       HH Pandya   \n",
       "1  Rajasthan Royals  Wickets     7.0    NaN      JC Buttler   \n",
       "\n",
       "                                        Team1Players  \\\n",
       "0  ['YBK Jaiswal', 'JC Buttler', 'SV Samson', 'D ...   \n",
       "1  ['V Kohli', 'F du Plessis', 'RM Patidar', 'GJ ...   \n",
       "\n",
       "                                        Team2Players      Umpire1      Umpire2  \n",
       "0  ['WP Saha', 'Shubman Gill', 'MS Wade', 'HH Pan...  CB Gaffaney  Nitin Menon  \n",
       "1  ['YBK Jaiswal', 'JC Buttler', 'SV Samson', 'D ...  CB Gaffaney  Nitin Menon  "
      ]
     },
     "execution_count": 157,
     "metadata": {},
     "output_type": "execute_result"
    }
   ],
   "source": [
    "df.head(2)"
   ]
  },
  {
   "cell_type": "code",
   "execution_count": 158,
   "id": "3ac7ef84-a47c-4341-8c3b-5bb741e9e5ff",
   "metadata": {},
   "outputs": [
    {
     "data": {
      "text/plain": [
       "['Rajasthan Royals',\n",
       " 'Royal Challengers Bangalore',\n",
       " 'Sunrisers Hyderabad',\n",
       " 'Delhi Capitals',\n",
       " 'Chennai Super Kings',\n",
       " 'Gujarat Titans',\n",
       " 'Lucknow Super Giants',\n",
       " 'Kolkata Knight Riders',\n",
       " 'Punjab Kings',\n",
       " 'Mumbai Indians',\n",
       " 'Kings XI Punjab',\n",
       " 'Delhi Daredevils',\n",
       " 'Rising Pune Supergiant',\n",
       " 'Gujarat Lions',\n",
       " 'Rising Pune Supergiants',\n",
       " 'Pune Warriors',\n",
       " 'Deccan Chargers',\n",
       " 'Kochi Tuskers Kerala']"
      ]
     },
     "execution_count": 158,
     "metadata": {},
     "output_type": "execute_result"
    }
   ],
   "source": [
    "team_names = pd.concat((df['Team1'],df['Team2'])).unique().tolist()\n",
    "team_names"
   ]
  },
  {
   "cell_type": "code",
   "execution_count": 159,
   "id": "cdbe5cab-e683-4874-bf5f-a2996cbbe618",
   "metadata": {},
   "outputs": [],
   "source": [
    "dict={}\n",
    "for i, team in enumerate(team_names):\n",
    "    dict[i] = team\n",
    "team_dict = {\n",
    "    'teams': dict\n",
    "}"
   ]
  },
  {
   "cell_type": "code",
   "execution_count": 160,
   "id": "1770c52d-7e21-4ffb-bea0-a6a4b288a9cf",
   "metadata": {},
   "outputs": [
    {
     "data": {
      "text/plain": [
       "['Rajasthan Royals',\n",
       " 'Royal Challengers Bangalore',\n",
       " 'Sunrisers Hyderabad',\n",
       " 'Delhi Capitals',\n",
       " 'Chennai Super Kings',\n",
       " 'Gujarat Titans',\n",
       " 'Lucknow Super Giants',\n",
       " 'Kolkata Knight Riders',\n",
       " 'Punjab Kings',\n",
       " 'Mumbai Indians',\n",
       " 'Kings XI Punjab',\n",
       " 'Delhi Daredevils',\n",
       " 'Rising Pune Supergiant',\n",
       " 'Gujarat Lions',\n",
       " 'Rising Pune Supergiants',\n",
       " 'Pune Warriors',\n",
       " 'Deccan Chargers',\n",
       " 'Kochi Tuskers Kerala']"
      ]
     },
     "execution_count": 160,
     "metadata": {},
     "output_type": "execute_result"
    }
   ],
   "source": [
    "team_names"
   ]
  },
  {
   "cell_type": "code",
   "execution_count": 161,
   "id": "87bee83f-e13e-4855-b071-8b4effa2ea92",
   "metadata": {},
   "outputs": [
    {
     "data": {
      "text/html": [
       "<div>\n",
       "<style scoped>\n",
       "    .dataframe tbody tr th:only-of-type {\n",
       "        vertical-align: middle;\n",
       "    }\n",
       "\n",
       "    .dataframe tbody tr th {\n",
       "        vertical-align: top;\n",
       "    }\n",
       "\n",
       "    .dataframe thead th {\n",
       "        text-align: right;\n",
       "    }\n",
       "</style>\n",
       "<table border=\"1\" class=\"dataframe\">\n",
       "  <thead>\n",
       "    <tr style=\"text-align: right;\">\n",
       "      <th></th>\n",
       "      <th>ID</th>\n",
       "      <th>City</th>\n",
       "      <th>Date</th>\n",
       "      <th>Season</th>\n",
       "      <th>MatchNumber</th>\n",
       "      <th>Team1</th>\n",
       "      <th>Team2</th>\n",
       "      <th>Venue</th>\n",
       "      <th>TossWinner</th>\n",
       "      <th>TossDecision</th>\n",
       "      <th>SuperOver</th>\n",
       "      <th>WinningTeam</th>\n",
       "      <th>WonBy</th>\n",
       "      <th>Margin</th>\n",
       "      <th>method</th>\n",
       "      <th>Player_of_Match</th>\n",
       "      <th>Team1Players</th>\n",
       "      <th>Team2Players</th>\n",
       "      <th>Umpire1</th>\n",
       "      <th>Umpire2</th>\n",
       "    </tr>\n",
       "  </thead>\n",
       "  <tbody>\n",
       "    <tr>\n",
       "      <th>0</th>\n",
       "      <td>1312200</td>\n",
       "      <td>Ahmedabad</td>\n",
       "      <td>2022-05-29</td>\n",
       "      <td>2022</td>\n",
       "      <td>Final</td>\n",
       "      <td>Rajasthan Royals</td>\n",
       "      <td>Gujarat Titans</td>\n",
       "      <td>Narendra Modi Stadium, Ahmedabad</td>\n",
       "      <td>Rajasthan Royals</td>\n",
       "      <td>bat</td>\n",
       "      <td>N</td>\n",
       "      <td>Gujarat Titans</td>\n",
       "      <td>Wickets</td>\n",
       "      <td>7.0</td>\n",
       "      <td>NaN</td>\n",
       "      <td>HH Pandya</td>\n",
       "      <td>['YBK Jaiswal', 'JC Buttler', 'SV Samson', 'D ...</td>\n",
       "      <td>['WP Saha', 'Shubman Gill', 'MS Wade', 'HH Pan...</td>\n",
       "      <td>CB Gaffaney</td>\n",
       "      <td>Nitin Menon</td>\n",
       "    </tr>\n",
       "    <tr>\n",
       "      <th>1</th>\n",
       "      <td>1312199</td>\n",
       "      <td>Ahmedabad</td>\n",
       "      <td>2022-05-27</td>\n",
       "      <td>2022</td>\n",
       "      <td>Qualifier 2</td>\n",
       "      <td>Royal Challengers Bangalore</td>\n",
       "      <td>Rajasthan Royals</td>\n",
       "      <td>Narendra Modi Stadium, Ahmedabad</td>\n",
       "      <td>Rajasthan Royals</td>\n",
       "      <td>field</td>\n",
       "      <td>N</td>\n",
       "      <td>Rajasthan Royals</td>\n",
       "      <td>Wickets</td>\n",
       "      <td>7.0</td>\n",
       "      <td>NaN</td>\n",
       "      <td>JC Buttler</td>\n",
       "      <td>['V Kohli', 'F du Plessis', 'RM Patidar', 'GJ ...</td>\n",
       "      <td>['YBK Jaiswal', 'JC Buttler', 'SV Samson', 'D ...</td>\n",
       "      <td>CB Gaffaney</td>\n",
       "      <td>Nitin Menon</td>\n",
       "    </tr>\n",
       "  </tbody>\n",
       "</table>\n",
       "</div>"
      ],
      "text/plain": [
       "        ID       City        Date Season  MatchNumber  \\\n",
       "0  1312200  Ahmedabad  2022-05-29   2022        Final   \n",
       "1  1312199  Ahmedabad  2022-05-27   2022  Qualifier 2   \n",
       "\n",
       "                         Team1             Team2  \\\n",
       "0             Rajasthan Royals    Gujarat Titans   \n",
       "1  Royal Challengers Bangalore  Rajasthan Royals   \n",
       "\n",
       "                              Venue        TossWinner TossDecision SuperOver  \\\n",
       "0  Narendra Modi Stadium, Ahmedabad  Rajasthan Royals          bat         N   \n",
       "1  Narendra Modi Stadium, Ahmedabad  Rajasthan Royals        field         N   \n",
       "\n",
       "        WinningTeam    WonBy  Margin method Player_of_Match  \\\n",
       "0    Gujarat Titans  Wickets     7.0    NaN       HH Pandya   \n",
       "1  Rajasthan Royals  Wickets     7.0    NaN      JC Buttler   \n",
       "\n",
       "                                        Team1Players  \\\n",
       "0  ['YBK Jaiswal', 'JC Buttler', 'SV Samson', 'D ...   \n",
       "1  ['V Kohli', 'F du Plessis', 'RM Patidar', 'GJ ...   \n",
       "\n",
       "                                        Team2Players      Umpire1      Umpire2  \n",
       "0  ['WP Saha', 'Shubman Gill', 'MS Wade', 'HH Pan...  CB Gaffaney  Nitin Menon  \n",
       "1  ['YBK Jaiswal', 'JC Buttler', 'SV Samson', 'D ...  CB Gaffaney  Nitin Menon  "
      ]
     },
     "execution_count": 161,
     "metadata": {},
     "output_type": "execute_result"
    }
   ],
   "source": [
    "df.head(2)"
   ]
  },
  {
   "cell_type": "code",
   "execution_count": 162,
   "id": "7ef4c0bd-d20e-41e3-abb2-0a08d7b26564",
   "metadata": {},
   "outputs": [],
   "source": [
    "def teamvteam(team1, team2):\n",
    "\n",
    "    temp_df = df[(df['Team1']==team1) & (df['Team2']==team2) | (df['Team1']==team2) & (df['Team2']==team1)]\n",
    "    total_matches = temp_df.shape[0]\n",
    "    w1 = temp_df['WinningTeam'].value_counts()[team1]\n",
    "    w2 = temp_df['WinningTeam'].value_counts()[team2]\n",
    "    \n",
    "    dict1 = {\n",
    "        \n",
    "        'Total_matches': total_matches,\n",
    "        team1: w1,\n",
    "        team2: w2,\n",
    "        'Draw': total_matches - (w1 + w2)\n",
    "    }\n",
    "    dict1 = {'teamvteam': dict1}\n",
    "    return dict1"
   ]
  },
  {
   "cell_type": "code",
   "execution_count": 163,
   "id": "9ad277e2-25ff-4a99-ae95-1bcc91fc0190",
   "metadata": {},
   "outputs": [
    {
     "data": {
      "text/plain": [
       "{'teamvteam': {'Total_matches': 29,\n",
       "  'Royal Challengers Bangalore': 10,\n",
       "  'Chennai Super Kings': 19,\n",
       "  'Draw': 0}}"
      ]
     },
     "execution_count": 163,
     "metadata": {},
     "output_type": "execute_result"
    }
   ],
   "source": [
    "teamvteam('Royal Challengers Bangalore', 'Chennai Super Kings')"
   ]
  },
  {
   "cell_type": "code",
   "execution_count": 164,
   "id": "1affa2fd-c5e9-4834-a12a-fd0e79f7e2a9",
   "metadata": {},
   "outputs": [],
   "source": [
    "team1 = 'Chennai Super Kings'\n",
    "team2 = 'Royal Challengers Bangalore'\n",
    "\n",
    "temp_df = df[(df['Team1']==team1) & (df['Team2']==team2) | (df['Team1']==team2) & (df['Team2']==team1)]"
   ]
  },
  {
   "cell_type": "code",
   "execution_count": 165,
   "id": "371c7c59-b0ae-4680-838f-ce6ab42eae24",
   "metadata": {},
   "outputs": [
    {
     "data": {
      "text/plain": [
       "19"
      ]
     },
     "execution_count": 165,
     "metadata": {},
     "output_type": "execute_result"
    }
   ],
   "source": [
    "temp_df['WinningTeam'].value_counts()[team1]"
   ]
  },
  {
   "cell_type": "code",
   "execution_count": 166,
   "id": "883f7f9a-bb25-46bf-a1c9-e92bca8e2540",
   "metadata": {},
   "outputs": [],
   "source": [
    "total_namtches = temp_df.shape[0]"
   ]
  },
  {
   "cell_type": "code",
   "execution_count": 167,
   "id": "ddbcf7e5-10aa-4761-b98e-4b4c1e2bdd60",
   "metadata": {},
   "outputs": [
    {
     "data": {
      "text/plain": [
       "29"
      ]
     },
     "execution_count": 167,
     "metadata": {},
     "output_type": "execute_result"
    }
   ],
   "source": [
    "total_namtches"
   ]
  },
  {
   "cell_type": "code",
   "execution_count": 190,
   "id": "f39e3d1a-a343-4df1-a965-fb52c45a610e",
   "metadata": {},
   "outputs": [
    {
     "data": {
      "text/html": [
       "<div>\n",
       "<style scoped>\n",
       "    .dataframe tbody tr th:only-of-type {\n",
       "        vertical-align: middle;\n",
       "    }\n",
       "\n",
       "    .dataframe tbody tr th {\n",
       "        vertical-align: top;\n",
       "    }\n",
       "\n",
       "    .dataframe thead th {\n",
       "        text-align: right;\n",
       "    }\n",
       "</style>\n",
       "<table border=\"1\" class=\"dataframe\">\n",
       "  <thead>\n",
       "    <tr style=\"text-align: right;\">\n",
       "      <th></th>\n",
       "      <th>ID</th>\n",
       "      <th>City</th>\n",
       "      <th>Date</th>\n",
       "      <th>Season</th>\n",
       "      <th>MatchNumber</th>\n",
       "      <th>Team1</th>\n",
       "      <th>Team2</th>\n",
       "      <th>Venue</th>\n",
       "      <th>TossWinner</th>\n",
       "      <th>TossDecision</th>\n",
       "      <th>SuperOver</th>\n",
       "      <th>WinningTeam</th>\n",
       "      <th>WonBy</th>\n",
       "      <th>Margin</th>\n",
       "      <th>method</th>\n",
       "      <th>Player_of_Match</th>\n",
       "      <th>Team1Players</th>\n",
       "      <th>Team2Players</th>\n",
       "      <th>Umpire1</th>\n",
       "      <th>Umpire2</th>\n",
       "    </tr>\n",
       "  </thead>\n",
       "  <tbody>\n",
       "    <tr>\n",
       "      <th>5</th>\n",
       "      <td>1304115</td>\n",
       "      <td>Mumbai</td>\n",
       "      <td>2022-05-21</td>\n",
       "      <td>2022</td>\n",
       "      <td>69</td>\n",
       "      <td>Delhi Capitals</td>\n",
       "      <td>Mumbai Indians</td>\n",
       "      <td>Wankhede Stadium, Mumbai</td>\n",
       "      <td>Mumbai Indians</td>\n",
       "      <td>field</td>\n",
       "      <td>N</td>\n",
       "      <td>Mumbai Indians</td>\n",
       "      <td>Wickets</td>\n",
       "      <td>5.0</td>\n",
       "      <td>NaN</td>\n",
       "      <td>JJ Bumrah</td>\n",
       "      <td>['PP Shaw', 'DA Warner', 'MR Marsh', 'RR Pant'...</td>\n",
       "      <td>['Ishan Kishan', 'RG Sharma', 'D Brevis', 'Til...</td>\n",
       "      <td>Nitin Menon</td>\n",
       "      <td>Tapan Sharma</td>\n",
       "    </tr>\n",
       "    <tr>\n",
       "      <th>9</th>\n",
       "      <td>1304111</td>\n",
       "      <td>Mumbai</td>\n",
       "      <td>2022-05-17</td>\n",
       "      <td>2022</td>\n",
       "      <td>65</td>\n",
       "      <td>Sunrisers Hyderabad</td>\n",
       "      <td>Mumbai Indians</td>\n",
       "      <td>Wankhede Stadium, Mumbai</td>\n",
       "      <td>Mumbai Indians</td>\n",
       "      <td>field</td>\n",
       "      <td>N</td>\n",
       "      <td>Sunrisers Hyderabad</td>\n",
       "      <td>Runs</td>\n",
       "      <td>3.0</td>\n",
       "      <td>NaN</td>\n",
       "      <td>RA Tripathi</td>\n",
       "      <td>['Abhishek Sharma', 'PK Garg', 'RA Tripathi', ...</td>\n",
       "      <td>['RG Sharma', 'Ishan Kishan', 'DR Sams', 'Tila...</td>\n",
       "      <td>CB Gaffaney</td>\n",
       "      <td>N Pandit</td>\n",
       "    </tr>\n",
       "  </tbody>\n",
       "</table>\n",
       "</div>"
      ],
      "text/plain": [
       "        ID    City        Date Season MatchNumber                Team1  \\\n",
       "5  1304115  Mumbai  2022-05-21   2022          69       Delhi Capitals   \n",
       "9  1304111  Mumbai  2022-05-17   2022          65  Sunrisers Hyderabad   \n",
       "\n",
       "            Team2                     Venue      TossWinner TossDecision  \\\n",
       "5  Mumbai Indians  Wankhede Stadium, Mumbai  Mumbai Indians        field   \n",
       "9  Mumbai Indians  Wankhede Stadium, Mumbai  Mumbai Indians        field   \n",
       "\n",
       "  SuperOver          WinningTeam    WonBy  Margin method Player_of_Match  \\\n",
       "5         N       Mumbai Indians  Wickets     5.0    NaN       JJ Bumrah   \n",
       "9         N  Sunrisers Hyderabad     Runs     3.0    NaN     RA Tripathi   \n",
       "\n",
       "                                        Team1Players  \\\n",
       "5  ['PP Shaw', 'DA Warner', 'MR Marsh', 'RR Pant'...   \n",
       "9  ['Abhishek Sharma', 'PK Garg', 'RA Tripathi', ...   \n",
       "\n",
       "                                        Team2Players      Umpire1  \\\n",
       "5  ['Ishan Kishan', 'RG Sharma', 'D Brevis', 'Til...  Nitin Menon   \n",
       "9  ['RG Sharma', 'Ishan Kishan', 'DR Sams', 'Tila...  CB Gaffaney   \n",
       "\n",
       "        Umpire2  \n",
       "5  Tapan Sharma  \n",
       "9      N Pandit  "
      ]
     },
     "execution_count": 190,
     "metadata": {},
     "output_type": "execute_result"
    }
   ],
   "source": [
    "temp_df.head(2)"
   ]
  },
  {
   "cell_type": "code",
   "execution_count": 213,
   "id": "31fbb0b4-91a4-4dd0-af82-deb483ce8395",
   "metadata": {},
   "outputs": [],
   "source": [
    "team = 'Mumbai Indians'"
   ]
  },
  {
   "cell_type": "code",
   "execution_count": 214,
   "id": "75795988-63fa-46d1-a1fe-1c937c3b3962",
   "metadata": {},
   "outputs": [],
   "source": [
    "total_match_played = temp_df.shape[0]"
   ]
  },
  {
   "cell_type": "code",
   "execution_count": 215,
   "id": "c39ba0ff-1c6e-41a1-ab7e-ce67594bcc82",
   "metadata": {},
   "outputs": [],
   "source": [
    "won = temp_df['WinningTeam'].value_counts()[team]"
   ]
  },
  {
   "cell_type": "code",
   "execution_count": 216,
   "id": "77a2c86a-353b-4156-b27f-7ab642ac8442",
   "metadata": {},
   "outputs": [],
   "source": [
    "loss = temp_df['WinningTeam'].value_counts().sum() - won"
   ]
  },
  {
   "cell_type": "code",
   "execution_count": 217,
   "id": "37c608c0-9c32-4292-8f45-3abf231f5629",
   "metadata": {},
   "outputs": [],
   "source": [
    "no_result = total_match_played - (won + loss)"
   ]
  },
  {
   "cell_type": "code",
   "execution_count": 221,
   "id": "4a226c3f-7547-4428-8ba4-78d122035b2a",
   "metadata": {},
   "outputs": [
    {
     "data": {
      "text/html": [
       "<div>\n",
       "<style scoped>\n",
       "    .dataframe tbody tr th:only-of-type {\n",
       "        vertical-align: middle;\n",
       "    }\n",
       "\n",
       "    .dataframe tbody tr th {\n",
       "        vertical-align: top;\n",
       "    }\n",
       "\n",
       "    .dataframe thead th {\n",
       "        text-align: right;\n",
       "    }\n",
       "</style>\n",
       "<table border=\"1\" class=\"dataframe\">\n",
       "  <thead>\n",
       "    <tr style=\"text-align: right;\">\n",
       "      <th></th>\n",
       "      <th>ID</th>\n",
       "      <th>City</th>\n",
       "      <th>Date</th>\n",
       "      <th>Season</th>\n",
       "      <th>MatchNumber</th>\n",
       "      <th>Team1</th>\n",
       "      <th>Team2</th>\n",
       "      <th>Venue</th>\n",
       "      <th>TossWinner</th>\n",
       "      <th>TossDecision</th>\n",
       "      <th>SuperOver</th>\n",
       "      <th>WinningTeam</th>\n",
       "      <th>WonBy</th>\n",
       "      <th>Margin</th>\n",
       "      <th>method</th>\n",
       "      <th>Player_of_Match</th>\n",
       "      <th>Team1Players</th>\n",
       "      <th>Team2Players</th>\n",
       "      <th>Umpire1</th>\n",
       "      <th>Umpire2</th>\n",
       "    </tr>\n",
       "  </thead>\n",
       "  <tbody>\n",
       "    <tr>\n",
       "      <th>5</th>\n",
       "      <td>1304115</td>\n",
       "      <td>Mumbai</td>\n",
       "      <td>2022-05-21</td>\n",
       "      <td>2022</td>\n",
       "      <td>69</td>\n",
       "      <td>Delhi Capitals</td>\n",
       "      <td>Mumbai Indians</td>\n",
       "      <td>Wankhede Stadium, Mumbai</td>\n",
       "      <td>Mumbai Indians</td>\n",
       "      <td>field</td>\n",
       "      <td>N</td>\n",
       "      <td>Mumbai Indians</td>\n",
       "      <td>Wickets</td>\n",
       "      <td>5.0</td>\n",
       "      <td>NaN</td>\n",
       "      <td>JJ Bumrah</td>\n",
       "      <td>['PP Shaw', 'DA Warner', 'MR Marsh', 'RR Pant'...</td>\n",
       "      <td>['Ishan Kishan', 'RG Sharma', 'D Brevis', 'Til...</td>\n",
       "      <td>Nitin Menon</td>\n",
       "      <td>Tapan Sharma</td>\n",
       "    </tr>\n",
       "    <tr>\n",
       "      <th>9</th>\n",
       "      <td>1304111</td>\n",
       "      <td>Mumbai</td>\n",
       "      <td>2022-05-17</td>\n",
       "      <td>2022</td>\n",
       "      <td>65</td>\n",
       "      <td>Sunrisers Hyderabad</td>\n",
       "      <td>Mumbai Indians</td>\n",
       "      <td>Wankhede Stadium, Mumbai</td>\n",
       "      <td>Mumbai Indians</td>\n",
       "      <td>field</td>\n",
       "      <td>N</td>\n",
       "      <td>Sunrisers Hyderabad</td>\n",
       "      <td>Runs</td>\n",
       "      <td>3.0</td>\n",
       "      <td>NaN</td>\n",
       "      <td>RA Tripathi</td>\n",
       "      <td>['Abhishek Sharma', 'PK Garg', 'RA Tripathi', ...</td>\n",
       "      <td>['RG Sharma', 'Ishan Kishan', 'DR Sams', 'Tila...</td>\n",
       "      <td>CB Gaffaney</td>\n",
       "      <td>N Pandit</td>\n",
       "    </tr>\n",
       "  </tbody>\n",
       "</table>\n",
       "</div>"
      ],
      "text/plain": [
       "        ID    City        Date Season MatchNumber                Team1  \\\n",
       "5  1304115  Mumbai  2022-05-21   2022          69       Delhi Capitals   \n",
       "9  1304111  Mumbai  2022-05-17   2022          65  Sunrisers Hyderabad   \n",
       "\n",
       "            Team2                     Venue      TossWinner TossDecision  \\\n",
       "5  Mumbai Indians  Wankhede Stadium, Mumbai  Mumbai Indians        field   \n",
       "9  Mumbai Indians  Wankhede Stadium, Mumbai  Mumbai Indians        field   \n",
       "\n",
       "  SuperOver          WinningTeam    WonBy  Margin method Player_of_Match  \\\n",
       "5         N       Mumbai Indians  Wickets     5.0    NaN       JJ Bumrah   \n",
       "9         N  Sunrisers Hyderabad     Runs     3.0    NaN     RA Tripathi   \n",
       "\n",
       "                                        Team1Players  \\\n",
       "5  ['PP Shaw', 'DA Warner', 'MR Marsh', 'RR Pant'...   \n",
       "9  ['Abhishek Sharma', 'PK Garg', 'RA Tripathi', ...   \n",
       "\n",
       "                                        Team2Players      Umpire1  \\\n",
       "5  ['Ishan Kishan', 'RG Sharma', 'D Brevis', 'Til...  Nitin Menon   \n",
       "9  ['RG Sharma', 'Ishan Kishan', 'DR Sams', 'Tila...  CB Gaffaney   \n",
       "\n",
       "        Umpire2  \n",
       "5  Tapan Sharma  \n",
       "9      N Pandit  "
      ]
     },
     "execution_count": 221,
     "metadata": {},
     "output_type": "execute_result"
    }
   ],
   "source": [
    "temp_df.head(2)"
   ]
  },
  {
   "cell_type": "code",
   "execution_count": 244,
   "id": "744a23b1-053a-4e3b-b617-757f291bb0c8",
   "metadata": {},
   "outputs": [
    {
     "data": {
      "text/plain": [
       "['Rajasthan Royals',\n",
       " 'Royal Challengers Bangalore',\n",
       " 'Sunrisers Hyderabad',\n",
       " 'Delhi Capitals',\n",
       " 'Chennai Super Kings',\n",
       " 'Gujarat Titans',\n",
       " 'Lucknow Super Giants',\n",
       " 'Kolkata Knight Riders',\n",
       " 'Punjab Kings',\n",
       " 'Kings XI Punjab',\n",
       " 'Delhi Daredevils',\n",
       " 'Rising Pune Supergiant',\n",
       " 'Gujarat Lions',\n",
       " 'Rising Pune Supergiants',\n",
       " 'Pune Warriors',\n",
       " 'Deccan Chargers',\n",
       " 'Kochi Tuskers Kerala']"
      ]
     },
     "execution_count": 244,
     "metadata": {},
     "output_type": "execute_result"
    }
   ],
   "source": [
    "team_names = pd.concat((df['Team1'],df['Team2'])).unique().tolist()\n",
    "team_names.remove(team)\n",
    "team_names"
   ]
  },
  {
   "cell_type": "code",
   "execution_count": 376,
   "id": "634c9f6a-e0ed-4833-ab37-981b8e4e9d98",
   "metadata": {},
   "outputs": [],
   "source": [
    "def team_record(team):\n",
    "    \n",
    "    temp_df = df[(df['Team1'] == team) | (df['Team2'] == team)]\n",
    "    total_match_played = temp_df.shape[0]\n",
    "    won = temp_df['WinningTeam'].value_counts()[team]\n",
    "    loss = temp_df['WinningTeam'].value_counts().sum() - won\n",
    "    no_result = total_match_played - (won + loss)\n",
    "    dict1 = {\n",
    "        'MatchesPlayed': str(total_match_played),\n",
    "        'Won': str(won),\n",
    "        'Loss': str(loss),\n",
    "        'NoResult': str(no_result)\n",
    "    }\n",
    "\n",
    "    team_names = pd.concat((df['Team1'], df['Team2'])).unique().tolist()\n",
    "    team_names.remove(team)\n",
    "    \n",
    "    dict2 = {}\n",
    "    for i in team_names:\n",
    "        temp_df1 = temp_df[(temp_df['Team1'] == i) | (temp_df['Team2'] == i)]\n",
    "        matches_played = temp_df1.shape[0]\n",
    "        try:\n",
    "            won1 = temp_df1['WinningTeam'].value_counts()[team1]\n",
    "        except:\n",
    "            won1 = 0\n",
    "        if i in temp_df1['WinningTeam'].value_counts():\n",
    "            loss1 = temp_df1['WinningTeam'].value_counts()[i]\n",
    "        else:\n",
    "            loss1 = 0\n",
    "        no_result1 = matches_played - (won1 + loss1)\n",
    "        dict2[i] = {\n",
    "            'MatchesPlayed': str(matches_played),\n",
    "            'Won': str(won1),\n",
    "            'Loss1': str(loss1),\n",
    "            'NoResult': str(no_result1)\n",
    "        }\n",
    "    dict3 = {'Overall': dict1, 'Against': dict2}\n",
    "    return dict3"
   ]
  },
  {
   "cell_type": "code",
   "execution_count": 377,
   "id": "d988ca1e-cbee-49b0-81c8-84f6daee66eb",
   "metadata": {},
   "outputs": [
    {
     "data": {
      "text/plain": [
       "{'Overall': {'MatchesPlayed': '231',\n",
       "  'Won': '131',\n",
       "  'Loss': '100',\n",
       "  'NoResult': '0'},\n",
       " 'Against': {'Rajasthan Royals': {'MatchesPlayed': '26',\n",
       "   'Won': '14',\n",
       "   'Loss1': '12',\n",
       "   'NoResult': '0'},\n",
       "  'Royal Challengers Bangalore': {'MatchesPlayed': '30',\n",
       "   'Won': '17',\n",
       "   'Loss1': '13',\n",
       "   'NoResult': '0'},\n",
       "  'Sunrisers Hyderabad': {'MatchesPlayed': '19',\n",
       "   'Won': '10',\n",
       "   'Loss1': '9',\n",
       "   'NoResult': '0'},\n",
       "  'Delhi Capitals': {'MatchesPlayed': '10',\n",
       "   'Won': '6',\n",
       "   'Loss1': '4',\n",
       "   'NoResult': '0'},\n",
       "  'Chennai Super Kings': {'MatchesPlayed': '34',\n",
       "   'Won': '20',\n",
       "   'Loss1': '14',\n",
       "   'NoResult': '0'},\n",
       "  'Gujarat Titans': {'MatchesPlayed': '1',\n",
       "   'Won': '1',\n",
       "   'Loss1': '0',\n",
       "   'NoResult': '0'},\n",
       "  'Lucknow Super Giants': {'MatchesPlayed': '2',\n",
       "   'Won': '0',\n",
       "   'Loss1': '2',\n",
       "   'NoResult': '0'},\n",
       "  'Kolkata Knight Riders': {'MatchesPlayed': '31',\n",
       "   'Won': '22',\n",
       "   'Loss1': '9',\n",
       "   'NoResult': '0'},\n",
       "  'Punjab Kings': {'MatchesPlayed': '3',\n",
       "   'Won': '1',\n",
       "   'Loss1': '2',\n",
       "   'NoResult': '0'},\n",
       "  'Kings XI Punjab': {'MatchesPlayed': '26',\n",
       "   'Won': '14',\n",
       "   'Loss1': '12',\n",
       "   'NoResult': '0'},\n",
       "  'Delhi Daredevils': {'MatchesPlayed': '22',\n",
       "   'Won': '11',\n",
       "   'Loss1': '11',\n",
       "   'NoResult': '0'},\n",
       "  'Rising Pune Supergiant': {'MatchesPlayed': '4',\n",
       "   'Won': '1',\n",
       "   'Loss1': '3',\n",
       "   'NoResult': '0'},\n",
       "  'Gujarat Lions': {'MatchesPlayed': '4',\n",
       "   'Won': '2',\n",
       "   'Loss1': '2',\n",
       "   'NoResult': '0'},\n",
       "  'Rising Pune Supergiants': {'MatchesPlayed': '2',\n",
       "   'Won': '1',\n",
       "   'Loss1': '1',\n",
       "   'NoResult': '0'},\n",
       "  'Pune Warriors': {'MatchesPlayed': '6',\n",
       "   'Won': '5',\n",
       "   'Loss1': '1',\n",
       "   'NoResult': '0'},\n",
       "  'Deccan Chargers': {'MatchesPlayed': '10',\n",
       "   'Won': '6',\n",
       "   'Loss1': '4',\n",
       "   'NoResult': '0'},\n",
       "  'Kochi Tuskers Kerala': {'MatchesPlayed': '1',\n",
       "   'Won': '0',\n",
       "   'Loss1': '1',\n",
       "   'NoResult': '0'}}}"
      ]
     },
     "execution_count": 377,
     "metadata": {},
     "output_type": "execute_result"
    }
   ],
   "source": [
    "team_record('Mumbai Indians')"
   ]
  },
  {
   "cell_type": "code",
   "execution_count": null,
   "id": "85dd0303-2027-4396-8d28-5b253aa9b556",
   "metadata": {},
   "outputs": [],
   "source": []
  },
  {
   "cell_type": "code",
   "execution_count": null,
   "id": "de17473a-5e22-4b07-ad60-3bf22a6bfa4a",
   "metadata": {},
   "outputs": [],
   "source": []
  },
  {
   "cell_type": "code",
   "execution_count": null,
   "id": "3804d0e7-f038-49ec-80d4-e64fea99f040",
   "metadata": {},
   "outputs": [],
   "source": []
  },
  {
   "cell_type": "code",
   "execution_count": null,
   "id": "f946f3ba-00a4-4990-8cbb-88eb3b2de85a",
   "metadata": {},
   "outputs": [],
   "source": []
  },
  {
   "cell_type": "code",
   "execution_count": 90,
   "id": "0fa14908-6b62-4450-b769-44edf045fa39",
   "metadata": {},
   "outputs": [],
   "source": [
    "import requests"
   ]
  },
  {
   "cell_type": "code",
   "execution_count": 151,
   "id": "af16092f-dce3-4474-b04b-f413863ec7fc",
   "metadata": {},
   "outputs": [],
   "source": [
    "response = requests.get('http://127.0.0.1:5000/api/teamvteam?team1=Rajasthan Royals&team2=Royal Challengers Bangalore').json()"
   ]
  },
  {
   "cell_type": "code",
   "execution_count": 152,
   "id": "89d67bc7-e3dc-480d-bba2-7d9245d619b3",
   "metadata": {},
   "outputs": [
    {
     "data": {
      "text/plain": [
       "<Response [200]>"
      ]
     },
     "execution_count": 152,
     "metadata": {},
     "output_type": "execute_result"
    }
   ],
   "source": [
    "requests.get('http://127.0.0.1:5000/api/teamvteam?team1=Rajasthan Royals&team2=Royal Challengers1 Bangalore')"
   ]
  },
  {
   "cell_type": "code",
   "execution_count": 153,
   "id": "b41655b1-2192-4b83-8cab-c7ef046c7a4f",
   "metadata": {},
   "outputs": [],
   "source": [
    "try:\n",
    "    a = response['teamvteam']\n",
    "except:\n",
    "    print('Ishu bhaiya')"
   ]
  },
  {
   "cell_type": "code",
   "execution_count": 154,
   "id": "8707a90e-709f-41e3-81c6-d5e71d38ce72",
   "metadata": {},
   "outputs": [
    {
     "data": {
      "text/plain": [
       "{'Draw': '2',\n",
       " 'Rajasthan Royals': '12',\n",
       " 'Royal Challengers Bangalore': '13',\n",
       " 'Total_matches': '27'}"
      ]
     },
     "execution_count": 154,
     "metadata": {},
     "output_type": "execute_result"
    }
   ],
   "source": [
    "a"
   ]
  },
  {
   "cell_type": "code",
   "execution_count": 136,
   "id": "f3da9944-48b5-4145-a327-7c2af9e7f7c7",
   "metadata": {},
   "outputs": [],
   "source": [
    "df3 = pd.DataFrame([list(a.values())], columns=list(a))"
   ]
  },
  {
   "cell_type": "code",
   "execution_count": 137,
   "id": "017308fd-f28f-40ab-b37c-a56c64cbfbe8",
   "metadata": {},
   "outputs": [
    {
     "data": {
      "text/html": [
       "<div>\n",
       "<style scoped>\n",
       "    .dataframe tbody tr th:only-of-type {\n",
       "        vertical-align: middle;\n",
       "    }\n",
       "\n",
       "    .dataframe tbody tr th {\n",
       "        vertical-align: top;\n",
       "    }\n",
       "\n",
       "    .dataframe thead th {\n",
       "        text-align: right;\n",
       "    }\n",
       "</style>\n",
       "<table border=\"1\" class=\"dataframe\">\n",
       "  <thead>\n",
       "    <tr style=\"text-align: right;\">\n",
       "      <th></th>\n",
       "      <th>Draw</th>\n",
       "      <th>Rajasthan Royals</th>\n",
       "      <th>Royal Challengers Bangalore</th>\n",
       "      <th>Total_matches</th>\n",
       "    </tr>\n",
       "  </thead>\n",
       "  <tbody>\n",
       "    <tr>\n",
       "      <th>0</th>\n",
       "      <td>2</td>\n",
       "      <td>12</td>\n",
       "      <td>13</td>\n",
       "      <td>27</td>\n",
       "    </tr>\n",
       "  </tbody>\n",
       "</table>\n",
       "</div>"
      ],
      "text/plain": [
       "  Draw Rajasthan Royals Royal Challengers Bangalore Total_matches\n",
       "0    2               12                          13            27"
      ]
     },
     "execution_count": 137,
     "metadata": {},
     "output_type": "execute_result"
    }
   ],
   "source": [
    "df3"
   ]
  },
  {
   "cell_type": "code",
   "execution_count": 378,
   "id": "34c43178-3a9c-4727-b206-22272e4fbf95",
   "metadata": {},
   "outputs": [
    {
     "name": "stdout",
     "output_type": "stream",
     "text": [
      "\n",
      "    Introduction Page made by Ishwar Gupta\n",
      "\n",
      "    All my API's :- \n",
      "    1- /api/team-names\n",
      "    2- /api/teamvteam?team1='<team1name>'&team2=<team2name>\n",
      "    3- /api/team-record?team=<any_team_name>\n",
      "\n"
     ]
    }
   ],
   "source": [
    "intro_page = \"\"\"\n",
    "    Introduction Page made by Ishwar Gupta\\n\n",
    "    All my API's :- \n",
    "    1- /api/team-names\n",
    "    2- /api/teamvteam?team1='<team1name>'&team2=<team2name>\n",
    "    3- /api/team-record?team=<any_team_name>\n",
    "\"\"\"\n",
    "\n",
    "print(intro_page)\n"
   ]
  },
  {
   "cell_type": "code",
   "execution_count": 379,
   "id": "71d7f82f-c74f-41e9-b5ef-0dac0716facd",
   "metadata": {},
   "outputs": [],
   "source": [
    "response1 = requests.get('http://127.0.0.1:5000/').json()"
   ]
  },
  {
   "cell_type": "code",
   "execution_count": 390,
   "id": "fe7a5efa-0f2b-41d9-a280-b24862537b06",
   "metadata": {},
   "outputs": [],
   "source": [
    "i = 'Royal Challengers Bangalore'\n",
    "response2 = requests.get(f'http://127.0.0.1:5000/api/team-record?team={i}').json()"
   ]
  },
  {
   "cell_type": "code",
   "execution_count": 404,
   "id": "367c74ed-e100-4cd1-9596-90702a2fe960",
   "metadata": {},
   "outputs": [
    {
     "ename": "NameError",
     "evalue": "name 'st' is not defined",
     "output_type": "error",
     "traceback": [
      "\u001b[1;31m---------------------------------------------------------------------------\u001b[0m",
      "\u001b[1;31mNameError\u001b[0m                                 Traceback (most recent call last)",
      "Cell \u001b[1;32mIn[404], line 5\u001b[0m\n\u001b[0;32m      3\u001b[0m \u001b[38;5;66;03m# Display the metrics horizontally\u001b[39;00m\n\u001b[0;32m      4\u001b[0m \u001b[38;5;28;01mfor\u001b[39;00m metric_name, value \u001b[38;5;129;01min\u001b[39;00m metrics\u001b[38;5;241m.\u001b[39mitems():\n\u001b[1;32m----> 5\u001b[0m     \u001b[43mst\u001b[49m\u001b[38;5;241m.\u001b[39mmetric(metric_name, value, \u001b[38;5;124m\"\u001b[39m\u001b[38;5;124mtype\u001b[39m\u001b[38;5;124m\"\u001b[39m)\n",
      "\u001b[1;31mNameError\u001b[0m: name 'st' is not defined"
     ]
    }
   ],
   "source": [
    "metrics = response2.get('Team-Record', {}).get('Overall', {})\n",
    "\n",
    "# Display the metrics horizontally\n",
    "for metric_name, value in metrics.items():\n",
    "    st.metric(metric_name, value, \"type\")"
   ]
  },
  {
   "cell_type": "code",
   "execution_count": 401,
   "id": "3c011c23-88e1-423c-8b48-4f7db59a8e3e",
   "metadata": {},
   "outputs": [],
   "source": [
    "overall = response2['Team-Record']['Overall']"
   ]
  },
  {
   "cell_type": "code",
   "execution_count": 403,
   "id": "ca39668b-1c80-44fe-85fd-809090ed46e4",
   "metadata": {},
   "outputs": [
    {
     "data": {
      "text/plain": [
       "4"
      ]
     },
     "execution_count": 403,
     "metadata": {},
     "output_type": "execute_result"
    }
   ],
   "source": [
    "len(overall)"
   ]
  },
  {
   "cell_type": "code",
   "execution_count": null,
   "id": "320bbd38-b631-4855-bf19-88135c1c114d",
   "metadata": {},
   "outputs": [],
   "source": []
  }
 ],
 "metadata": {
  "kernelspec": {
   "display_name": "Python 3 (ipykernel)",
   "language": "python",
   "name": "python3"
  },
  "language_info": {
   "codemirror_mode": {
    "name": "ipython",
    "version": 3
   },
   "file_extension": ".py",
   "mimetype": "text/x-python",
   "name": "python",
   "nbconvert_exporter": "python",
   "pygments_lexer": "ipython3",
   "version": "3.11.4"
  }
 },
 "nbformat": 4,
 "nbformat_minor": 5
}
